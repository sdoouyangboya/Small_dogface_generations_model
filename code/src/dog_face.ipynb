{
 "cells": [
  {
   "cell_type": "code",
   "execution_count": null,
   "metadata": {},
   "outputs": [
    {
     "name": "stdout",
     "output_type": "stream",
     "text": [
      "Dog's Mood Description: \"With tail wagging enthusiastically, endless energy for fetch, and a big doggy smile, I'm just over the moon happy today!\"\n"
     ]
    },
    {
     "data": {
      "text/html": [
       "<img src=\"https://oaidalleapiprodscus.blob.core.windows.net/private/org-Fwl3ixG9Z4auUCS0v3LpBpcD/user-X9bW1dMgB0AbWEabTRk6XtlL/img-aBabZWdcmfdXkcua256LAivH.png?st=2024-11-02T08%3A05%3A06Z&se=2024-11-02T10%3A05%3A06Z&sp=r&sv=2024-08-04&sr=b&rscd=inline&rsct=image/png&skoid=d505667d-d6c1-4a0a-bac7-5c84a87759f8&sktid=a48cca56-e6da-484e-a814-9c849652bcb3&skt=2024-11-02T01%3A45%3A38Z&ske=2024-11-03T01%3A45%3A38Z&sks=b&skv=2024-08-04&sig=JG9p928/lCOzDCrjftyzXBlIbjEinRafYQUmaox07J8%3D\"/>"
      ],
      "text/plain": [
       "<IPython.core.display.Image object>"
      ]
     },
     "metadata": {},
     "output_type": "display_data"
    }
   ],
   "source": [
    "import os\n",
    "import requests\n",
    "import json\n",
    "import urllib.request\n",
    "\n",
    "# Set your OpenAI API key\n",
    "api_key = \"sk-proj-nB2onLRqvaHRCZFvplPVT3BlbkFJNdzm0BM0vsRTTho2Iysx\"  # Replace this with your OpenAI API key\n",
    "\n",
    "# Create folders for images and descriptions if they don't exist\n",
    "os.makedirs(\"images\", exist_ok=True)\n",
    "os.makedirs(\"descriptions\", exist_ok=True)\n",
    "\n",
    "# Function to generate an image using DALL-E 3\n",
    "def generate_image(prompt: str):\n",
    "    url = 'https://api.openai.com/v1/images/generations'\n",
    "    headers = {\n",
    "        'Content-Type': 'application/json',\n",
    "        'Authorization': f'Bearer {api_key}'\n",
    "    }\n",
    "    data = {\n",
    "        'model': 'dall-e-3',\n",
    "        'prompt': prompt,\n",
    "        'n': 1,\n",
    "        'size': '1024x1024',\n",
    "    }\n",
    "\n",
    "    response = requests.post(url, headers=headers, data=json.dumps(data))\n",
    "    response_json = response.json()\n",
    "\n",
    "    if response.status_code != 200:\n",
    "        raise Exception(response_json.get('error', {}).get('message', 'Unknown error'))\n",
    "\n",
    "    return response_json['data'][0]['url']\n",
    "\n",
    "# Function to generate a single-sentence facial expression description using GPT-4\n",
    "def generate_dog_mood_description():\n",
    "    url = 'https://api.openai.com/v1/chat/completions'\n",
    "    headers = {\n",
    "        'Content-Type': 'application/json',\n",
    "        'Authorization': f'Bearer {api_key}'\n",
    "    }\n",
    "    data = {\n",
    "        'model': 'gpt-4',\n",
    "        'messages': [\n",
    "            {\"role\": \"system\", \"content\": \"You are a helpful assistant that describes mood of dog in a single sentence, using the dog's perspective to express its mood.\"},\n",
    "            {\"role\": \"user\", \"content\": \"Describe the happy mood from the dog's perspective in a single sentence\"}\n",
    "        ],\n",
    "        'max_tokens': 50,\n",
    "        'temperature': 1.0,\n",
    "    }\n",
    "    response = requests.post(url, headers=headers, data=json.dumps(data))\n",
    "    response_json = response.json()\n",
    "\n",
    "    if response.status_code != 200:\n",
    "        raise Exception(response_json.get('error', {}).get('message', 'Unknown error'))\n",
    "\n",
    "    return response_json['choices'][0]['message']['content'].strip()\n",
    "\n",
    "# Main loop to generate 200 images and descriptions\n",
    "for i in range(1, 201):\n",
    "    try:\n",
    "        # Generate image and description\n",
    "        image_url = generate_image(\"Create a simple emoji of happy dog face.\")\n",
    "        description = generate_dog_mood_description()\n",
    "        \n",
    "        # Save the image\n",
    "        image_filename = f\"images/dog_image_{i}.png\"\n",
    "        urllib.request.urlretrieve(image_url, image_filename)\n",
    "        \n",
    "        # Save the description in a text file\n",
    "        description_filename = f\"descriptions/dog_image_{i}.txt\"\n",
    "        with open(description_filename, \"w\") as file:\n",
    "            file.write(description)\n",
    "        \n",
    "        print(f\"Saved image and description {i} successfully.\")\n",
    "    except Exception as e:\n",
    "        print(f\"Error on iteration {i}: {e}\")\n"
   ]
  },
  {
   "cell_type": "code",
   "execution_count": 28,
   "metadata": {},
   "outputs": [
    {
     "data": {
      "text/plain": [
       "'\"Wagging my tail wildly, my heart throbs with uncontainable joy as I see my beloved human walk through the door!\"'"
      ]
     },
     "execution_count": 28,
     "metadata": {},
     "output_type": "execute_result"
    }
   ],
   "source": [
    "facial_expression_description.split(\"Description:\")[0]"
   ]
  },
  {
   "cell_type": "code",
   "execution_count": null,
   "metadata": {},
   "outputs": [],
   "source": []
  },
  {
   "cell_type": "code",
   "execution_count": 12,
   "metadata": {},
   "outputs": [
    {
     "data": {
      "text/html": [
       "<img src=\"https://oaidalleapiprodscus.blob.core.windows.net/private/org-Fwl3ixG9Z4auUCS0v3LpBpcD/user-X9bW1dMgB0AbWEabTRk6XtlL/img-OvO2xcj9HnUsfYY3amnp38zE.png?st=2024-11-02T07%3A53%3A08Z&se=2024-11-02T09%3A53%3A08Z&sp=r&sv=2024-08-04&sr=b&rscd=inline&rsct=image/png&skoid=d505667d-d6c1-4a0a-bac7-5c84a87759f8&sktid=a48cca56-e6da-484e-a814-9c849652bcb3&skt=2024-11-02T01%3A51%3A14Z&ske=2024-11-03T01%3A51%3A14Z&sks=b&skv=2024-08-04&sig=DDjy6AB2rijiytQ44/dq6Nqe2m780bF7aY8/%2B8ebjWk%3D\"/>"
      ],
      "text/plain": [
       "<IPython.core.display.Image object>"
      ]
     },
     "metadata": {},
     "output_type": "display_data"
    },
    {
     "name": "stdout",
     "output_type": "stream",
     "text": [
      "Dog's Mood Description: As an AI, I'm unable to access external links or images. However, if you provide a short description of the image, I will be more than glad to help you create a sentence from the dog's perspective based on the details given.\n"
     ]
    }
   ],
   "source": [
    "import requests\n",
    "import json\n",
    "from IPython.display import Image\n",
    "\n",
    "# Set your OpenAI API key\n",
    "api_key = \"sk-proj-nB2onLRqvaHRCZFvplPVT3BlbkFJNdzm0BM0vsRTTho2Iysx\"  # Replace this with your OpenAI API key\n",
    "\n",
    "# Function to generate an image using DALL-E 3\n",
    "def generate_image(prompt: str):\n",
    "    url = 'https://api.openai.com/v1/images/generations'\n",
    "    headers = {\n",
    "        'Content-Type': 'application/json',\n",
    "        'Authorization': f'Bearer {api_key}'\n",
    "    }\n",
    "    data = {\n",
    "        'model': 'dall-e-3',\n",
    "        'prompt': prompt,\n",
    "        'n': 1,\n",
    "        'size': '1024x1024',\n",
    "    }\n",
    "\n",
    "    response = requests.post(url, headers=headers, data=json.dumps(data))\n",
    "    response_json = response.json()\n",
    "\n",
    "    if response.status_code != 200:\n",
    "        raise Exception(response_json.get('error', {}).get('message', 'Unknown error'))\n",
    "\n",
    "    return response_json['data'][0]['url']\n",
    "\n",
    "# Function to generate a single-sentence mood description from the dog's perspective using GPT-4\n",
    "def generate_dog_mood_description(image_url: str):\n",
    "    url = 'https://api.openai.com/v1/chat/completions'\n",
    "    headers = {\n",
    "        'Content-Type': 'application/json',\n",
    "        'Authorization': f'Bearer {api_key}'\n",
    "    }\n",
    "    data = {\n",
    "        'model': 'gpt-4',\n",
    "        'messages': [\n",
    "            {\"role\": \"system\", \"content\": \"You are a helpful assistant that describes visual details in a single sentence, using the dog's perspective to express its mood.\"},\n",
    "            {\"role\": \"user\", \"content\": f\"Imagine you are the dog in this image: {image_url}. Describe your mood in a single sentence, focusing on how you feel.\"}\n",
    "        ],\n",
    "        'max_tokens': 50,\n",
    "        'temperature': 0.7,\n",
    "    }\n",
    "\n",
    "    response = requests.post(url, headers=headers, data=json.dumps(data))\n",
    "    response_json = response.json()\n",
    "\n",
    "    if response.status_code != 200:\n",
    "        raise Exception(response_json.get('error', {}).get('message', 'Unknown error'))\n",
    "\n",
    "    return response_json['choices'][0]['message']['content'].strip()\n",
    "\n",
    "# Example usage\n",
    "prompt = \"Create a 3D rendered image of a stylized cartoon character of dog face.\"\n",
    "\n",
    "# Step 1: Generate image\n",
    "image_url = generate_image(prompt)\n",
    "display(Image(url=image_url))  # Display the generated image\n",
    "\n",
    "# Step 2: Generate mood description from the dog's perspective based on the image URL\n",
    "dog_mood_description = generate_dog_mood_description(image_url)\n",
    "print(\"Dog's Mood Description:\", dog_mood_description)\n"
   ]
  },
  {
   "cell_type": "code",
   "execution_count": null,
   "metadata": {},
   "outputs": [],
   "source": []
  }
 ],
 "metadata": {
  "kernelspec": {
   "display_name": "galip",
   "language": "python",
   "name": "python3"
  },
  "language_info": {
   "codemirror_mode": {
    "name": "ipython",
    "version": 3
   },
   "file_extension": ".py",
   "mimetype": "text/x-python",
   "name": "python",
   "nbconvert_exporter": "python",
   "pygments_lexer": "ipython3",
   "version": "3.9.20"
  }
 },
 "nbformat": 4,
 "nbformat_minor": 2
}
